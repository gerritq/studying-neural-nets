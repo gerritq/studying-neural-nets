{
 "cells": [
  {
   "cell_type": "markdown",
   "metadata": {},
   "source": [
    "# Makemore: MLP Activations, Gradients and BatchNorm"
   ]
  },
  {
   "cell_type": "code",
   "execution_count": 57,
   "metadata": {},
   "outputs": [],
   "source": [
    "import torch\n",
    "import torch.nn.functional as F\n",
    "import matplotlib.pyplot as plt\n",
    "import random\n",
    "import numpy as np\n",
    "%matplotlib inline"
   ]
  },
  {
   "cell_type": "markdown",
   "metadata": {},
   "source": [
    "## Data"
   ]
  },
  {
   "cell_type": "code",
   "execution_count": 2,
   "metadata": {},
   "outputs": [],
   "source": [
    "# Load data, read data, and split by lines which creates a list of names\n",
    "words = open(\"/Users/gerritquaremba/Library/CloudStorage/GoogleDrive-g.quaremba@gmail.com/My Drive/08_NN_Kaparthy/makemore/names.txt\", 'r').read().splitlines()"
   ]
  },
  {
   "cell_type": "code",
   "execution_count": 3,
   "metadata": {},
   "outputs": [],
   "source": [
    "# stoi = string to integer\n",
    "chars = sorted(list(set(''.join(words))))\n",
    "stoi = {s: i+1 for i, s in enumerate(chars)}\n",
    "stoi['.']=0\n",
    "\n",
    "# itos = integer to string\n",
    "itos = {i: s for s, i in stoi.items()}"
   ]
  },
  {
   "cell_type": "code",
   "execution_count": 9,
   "metadata": {},
   "outputs": [],
   "source": [
    "# Build sets\n",
    "# Data set\n",
    "block_size=3 # Context window\n",
    "X, Y = [], [] # In- and output\n",
    "\n",
    "for word in words:\n",
    "    context = [0]*block_size # creates the context window which is populated next; also sets the beginning chars\n",
    "\n",
    "    for char in word + '.':\n",
    "        ix=stoi[char]\n",
    "        X.append(context)\n",
    "        Y.append(ix)\n",
    "        \n",
    "        # Update context: last two become first two + new token\n",
    "        context=context[1:] + [ix]\n",
    "        \n",
    "# Create tensors\n",
    "X = torch.tensor(X)\n",
    "Y = torch.tensor(Y)\n",
    "\n",
    "# Split into train, dev, test\n",
    "random.seed(42)\n",
    "random.shuffle(words) # Shuffle order\n",
    "n1 = int(.8*len(words)) # Get ints for .8 and .9 percent of the data\n",
    "n2 = int(.9*len(words))\n",
    "\n",
    "Xtr, Ytr = X[:n1], Y[:n1]\n",
    "Xdev, Ydev = X[n1:n2], Y[n1:n2]\n",
    "Xte, Yte = X[n2:], Y[n2:]"
   ]
  },
  {
   "cell_type": "markdown",
   "metadata": {},
   "source": [
    "## MLP\n",
    "\n",
    "The MLP is the same as in the first makemore notebook. We here paramettrised some of the dimensions."
   ]
  },
  {
   "cell_type": "markdown",
   "metadata": {},
   "source": [
    "## Paramters"
   ]
  },
  {
   "cell_type": "code",
   "execution_count": 19,
   "metadata": {},
   "outputs": [
    {
     "name": "stdout",
     "output_type": "stream",
     "text": [
      "11897\n"
     ]
    }
   ],
   "source": [
    "# Define vocab size, embedding size, and hidden layer size\n",
    "vocab_size=27\n",
    "n_embd=10\n",
    "n_hidden=200\n",
    "\n",
    "g = torch.Generator().manual_seed(2147483647)\n",
    "\n",
    "# Parameters\n",
    "C = torch.randn((vocab_size, n_embd), generator=g)\n",
    "\n",
    "W1 = torch.randn((n_embd*block_size, n_hidden), generator=g)\n",
    "b1 = torch.randn((n_hidden), generator=g)\n",
    "\n",
    "W2 = torch.randn((n_hidden, vocab_size), generator=g)\n",
    "b2 = torch.randn((vocab_size), generator=g)\n",
    "\n",
    "# Collect params\n",
    "parameters = [C, W1, b1, W2, b2]\n",
    "\n",
    "# Set gradients\n",
    "for p in parameters:\n",
    "    p.requires_grad=True\n",
    "\n",
    "# Number of total params\n",
    "print(sum(p.nelement() for p in parameters))"
   ]
  },
  {
   "cell_type": "markdown",
   "metadata": {},
   "source": [
    "## Training"
   ]
  },
  {
   "cell_type": "code",
   "execution_count": 20,
   "metadata": {},
   "outputs": [
    {
     "name": "stdout",
     "output_type": "stream",
     "text": [
      "      0/ 200000: 29.5223\n",
      "  10000/ 200000: 2.5229\n",
      "  20000/ 200000: 1.8206\n",
      "  30000/ 200000: 1.9199\n",
      "  40000/ 200000: 1.5653\n",
      "  50000/ 200000: 1.6712\n",
      "  60000/ 200000: 1.2907\n",
      "  70000/ 200000: 1.2901\n",
      "  80000/ 200000: 2.1001\n",
      "  90000/ 200000: 2.2139\n",
      " 100000/ 200000: 1.6078\n",
      " 110000/ 200000: 1.6959\n",
      " 120000/ 200000: 1.2775\n",
      " 130000/ 200000: 1.4895\n",
      " 140000/ 200000: 1.6190\n",
      " 150000/ 200000: 1.6354\n",
      " 160000/ 200000: 1.5814\n",
      " 170000/ 200000: 1.1719\n",
      " 180000/ 200000: 1.7799\n",
      " 190000/ 200000: 1.9428\n"
     ]
    }
   ],
   "source": [
    "max_steps=200000\n",
    "batch_size=32\n",
    "lossi=[]\n",
    "\n",
    "for i in range(max_steps):\n",
    "\n",
    "    # Get minibatch\n",
    "    ix=torch.randint(0, Xtr.shape[0], (batch_size, ), generator=g) # Indexes of inputs\n",
    "    Xb, Yb = Xtr[ix], Ytr[ix] # batches\n",
    "\n",
    "    # FORWARD PASS\n",
    "    # Embd and concatenation\n",
    "    emb = C[Xb]\n",
    "    embcat=emb.view(emb.shape[0], -1)\n",
    "\n",
    "    # pre activation\n",
    "    hpreact = embcat @ W1 + b1\n",
    "    # post activation\n",
    "    h=torch.tanh(hpreact)\n",
    "\n",
    "    # logits\n",
    "    logits = h @ W2 + b2\n",
    "    # Loss\n",
    "    loss  = F.cross_entropy(logits, Yb)\n",
    "\n",
    "    # BACKWARD PASS\n",
    "    # Set grads to 0\n",
    "    for p in parameters:\n",
    "        p.grad=None\n",
    "\n",
    "    # Backprop\n",
    "    loss.backward()\n",
    "\n",
    "    # Update params\n",
    "    lr = .1 if i < 100000 else .01\n",
    "    for p in parameters:\n",
    "        p.data+=-lr*p.grad\n",
    "\n",
    "    # TRack loss\n",
    "    if i % 10000 == 0:\n",
    "        print(f'{i:7d}/{max_steps:7d}: {loss.item():.4f}')\n",
    "    lossi.append(loss.log10().item())"
   ]
  },
  {
   "cell_type": "code",
   "execution_count": 23,
   "metadata": {},
   "outputs": [
    {
     "data": {
      "text/plain": [
       "[<matplotlib.lines.Line2D at 0x7f7db42e8190>]"
      ]
     },
     "execution_count": 23,
     "metadata": {},
     "output_type": "execute_result"
    },
    {
     "data": {
      "image/png": "[encoded data removed]",
      "text/plain": [
       "<Figure size 640x480 with 1 Axes>"
      ]
     },
     "metadata": {},
     "output_type": "display_data"
    }
   ],
   "source": [
    "plt.plot(lossi)"
   ]
  },
  {
   "cell_type": "code",
   "execution_count": 25,
   "metadata": {},
   "outputs": [
    {
     "name": "stdout",
     "output_type": "stream",
     "text": [
      "train 1.5790997743606567\n",
      "val 2.260816812515259\n"
     ]
    }
   ],
   "source": [
    "# Function to get loss of entire split data\n",
    "@torch.no_grad() # decorator disables gradient tracking for faster computation\n",
    "def split_loss(split):\n",
    "    x, y = {'train': (Xtr, Ytr),\n",
    "            'val': (Xdev, Ydev),\n",
    "            'test': (Xte, Yte)}[split] # select split\n",
    "    \n",
    "    # FORWARD PASS\n",
    "    emb = C[x]\n",
    "    embcat=emb.view(emb.shape[0], -1)\n",
    "    h=torch.tanh(embcat @ W1 + b1)\n",
    "    logits = h @ W2 + b2\n",
    "    loss  = F.cross_entropy(logits, y)\n",
    "\n",
    "    print(split, loss.item())\n",
    "\n",
    "# E.g.\n",
    "split_loss('train')\n",
    "split_loss('val')"
   ]
  },
  {
   "cell_type": "markdown",
   "metadata": {},
   "source": [
    "## Problem 1: High initial loss\n",
    "\n",
    "We can tell from tracking the loss that the initial loss is significantly higher than the value it converges to. This indicates the the initialisation of the MLP is quite off. The moel assigns made up porbabilities to each character, which explains the high loss. Instead, what would we expect as the first loss? This is easy. At initialisation, we expect the MLP to assign a equal probability to each character, this is `1/27`, as the model has no prior information. In this case, for any given char, we expect a loss of:"
   ]
  },
  {
   "cell_type": "code",
   "execution_count": 32,
   "metadata": {},
   "outputs": [
    {
     "data": {
      "text/plain": [
       "3.295836925506592"
      ]
     },
     "execution_count": 32,
     "metadata": {},
     "output_type": "execute_result"
    }
   ],
   "source": [
    "# Loss=negative log likelihood\n",
    "-torch.tensor(1/27).log().item()"
   ]
  },
  {
   "cell_type": "markdown",
   "metadata": {},
   "source": [
    "To asign equal probaility to each character at initialisation, we watn ech logit to be the same value, so that the softamx assigns equal probs. For simplicity, we can chose that all logits are 0 at the beginning. How can this be done? We want to manipulate the last layer:\n",
    "\n",
    "a. Set the bias to 0\n",
    "\n",
    "b. Multiply the weights of the output layer with a tiny number so that the result logits will be close to zero\n",
    "\n",
    "First, update the last layer. Second, compute the first loss:"
   ]
  },
  {
   "cell_type": "code",
   "execution_count": 39,
   "metadata": {},
   "outputs": [
    {
     "name": "stdout",
     "output_type": "stream",
     "text": [
      "11897\n"
     ]
    }
   ],
   "source": [
    "# Updated params to fix initial loss\n",
    "# Define vocab size, embedding size, and hidden layer size\n",
    "vocab_size=27\n",
    "n_embd=10\n",
    "n_hidden=200\n",
    "\n",
    "g = torch.Generator().manual_seed(2147483647)\n",
    "\n",
    "# Parameters\n",
    "C = torch.randn((vocab_size, n_embd), generator=g)\n",
    "\n",
    "W1 = torch.randn((n_embd*block_size, n_hidden), generator=g)\n",
    "b1 = torch.randn((n_hidden), generator=g)\n",
    "\n",
    "# FIX LOSS HERE\n",
    "W2 = torch.randn((n_hidden, vocab_size), generator=g) * .01 # Multiply by tiny number\n",
    "b2 = torch.randn((vocab_size), generator=g) * 0 # to create 0 biases\n",
    "\n",
    "# Collect params\n",
    "parameters = [C, W1, b1, W2, b2]\n",
    "\n",
    "# Set gradients\n",
    "for p in parameters:\n",
    "    p.requires_grad=True\n",
    "\n",
    "# Number of total params\n",
    "print(sum(p.nelement() for p in parameters))"
   ]
  },
  {
   "cell_type": "code",
   "execution_count": 40,
   "metadata": {},
   "outputs": [
    {
     "name": "stdout",
     "output_type": "stream",
     "text": [
      "      0/ 200000: 3.3349\n",
      "  10000/ 200000: 2.2333\n",
      "  20000/ 200000: 1.8079\n",
      "  30000/ 200000: 1.9123\n",
      "  40000/ 200000: 1.7873\n",
      "  50000/ 200000: 1.6637\n",
      "  60000/ 200000: 1.3825\n",
      "  70000/ 200000: 1.3306\n",
      "  80000/ 200000: 2.1060\n",
      "  90000/ 200000: 1.9982\n",
      " 100000/ 200000: 1.6686\n",
      " 110000/ 200000: 1.6429\n",
      " 120000/ 200000: 1.2372\n",
      " 130000/ 200000: 1.3529\n",
      " 140000/ 200000: 1.6495\n",
      " 150000/ 200000: 1.4729\n",
      " 160000/ 200000: 1.5990\n",
      " 170000/ 200000: 1.1630\n",
      " 180000/ 200000: 1.6899\n",
      " 190000/ 200000: 1.8908\n"
     ]
    }
   ],
   "source": [
    "max_steps=200000\n",
    "batch_size=32\n",
    "lossi=[]\n",
    "\n",
    "for i in range(max_steps):\n",
    "\n",
    "    # Get minibatch\n",
    "    ix=torch.randint(0, Xtr.shape[0], (batch_size, ), generator=g) # Indexes of inputs\n",
    "    Xb, Yb = Xtr[ix], Ytr[ix] # batches\n",
    "\n",
    "    # FORWARD PASS\n",
    "    # Embd and concatenation\n",
    "    emb = C[Xb]\n",
    "    embcat=emb.view(emb.shape[0], -1)\n",
    "\n",
    "    # pre activation\n",
    "    hpreact = embcat @ W1 + b1\n",
    "    # post activation\n",
    "    h=torch.tanh(hpreact)\n",
    "\n",
    "    # logits\n",
    "    logits = h @ W2 + b2\n",
    "    # Loss\n",
    "    loss  = F.cross_entropy(logits, Yb)\n",
    "\n",
    "    # BACKWARD PASS\n",
    "    # Set grads to 0\n",
    "    for p in parameters:\n",
    "        p.grad=None\n",
    "\n",
    "    # Backprop\n",
    "    loss.backward()\n",
    "\n",
    "    # Update params\n",
    "    lr = .1 if i < 100000 else .01\n",
    "    for p in parameters:\n",
    "        p.data+=-lr*p.grad\n",
    "\n",
    "    # TRack loss\n",
    "    if i % 10000 == 0:\n",
    "        print(f'{i:7d}/{max_steps:7d}: {loss.item():.4f}')\n",
    "    lossi.append(loss.log10().item())"
   ]
  },
  {
   "cell_type": "code",
   "execution_count": 41,
   "metadata": {},
   "outputs": [
    {
     "data": {
      "text/plain": [
       "[<matplotlib.lines.Line2D at 0x7f7d880acd60>]"
      ]
     },
     "execution_count": 41,
     "metadata": {},
     "output_type": "execute_result"
    },
    {
     "data": {
      "image/png": "[encoded data removed]",
      "text/plain": [
       "<Figure size 640x480 with 1 Axes>"
      ]
     },
     "metadata": {},
     "output_type": "display_data"
    }
   ],
   "source": [
    "plt.plot(lossi)"
   ]
  },
  {
   "cell_type": "code",
   "execution_count": 42,
   "metadata": {},
   "outputs": [
    {
     "name": "stdout",
     "output_type": "stream",
     "text": [
      "train 1.552138328552246\n",
      "val 2.2428407669067383\n"
     ]
    }
   ],
   "source": [
    "# Show train and val loss, which are lower than before\n",
    "split_loss('train')\n",
    "split_loss('val')"
   ]
  },
  {
   "cell_type": "markdown",
   "metadata": {},
   "source": [
    "As expected, when manipulating the inintial weights and biases of the last layer to be 0, we get logits lose to zero, and therefore assign eqaul probs to each character. This results in a sign. lower loss at the beginning. Additionally, we expect also a improvement of the overall loss of the model, as it now has more time to actually adjust the wieghts rrather than squashing the parameters in the first few thousand iterations to the ideal values. Also, when we look at the plot of the losses, we do not see the hockey stick shape anymore, which resulted from the inital high loss."
   ]
  },
  {
   "cell_type": "markdown",
   "metadata": {},
   "source": [
    "## Problem 2: Saturated tanh\n",
    "\n",
    "The activation function, `tanh`, can easily saturate, which means that a neuron outputs a value close to the asymptotic ends of the activation function , that is -1 or 1. The gradient at these tails is close to 0 which inhibits learning. This is a more general problem called \"gradient saturation\" which applies to most activation functions (tanh, sigmoid, ReLu). Other activation functions, such s Leaky Reulu or ELU, do not suffer that severly from this problem, as they have no falt spots.\n",
    "\n",
    "If we visualise the activation neurons of the hidden layer we get:"
   ]
  },
  {
   "cell_type": "code",
   "execution_count": 62,
   "metadata": {},
   "outputs": [
    {
     "data": {
      "image/png": "[encoded data removed]",
      "text/plain": [
       "<Figure size 640x480 with 1 Axes>"
      ]
     },
     "metadata": {},
     "output_type": "display_data"
    }
   ],
   "source": [
    "# Plot tanh\n",
    "plt.plot(np.linspace(-np.pi, np.pi, 100) , np.tanh(np.linspace(-np.pi, np.pi, 100) )) \n",
    "plt.title(\"tanh\") \n",
    "plt.xlabel(\"X\") \n",
    "plt.ylabel(\"Y\")\n",
    "plt.grid()\n",
    "plt.show() "
   ]
  },
  {
   "cell_type": "markdown",
   "metadata": {},
   "source": [
    "We just run the model for once and break after the initialisation:"
   ]
  },
  {
   "cell_type": "code",
   "execution_count": 71,
   "metadata": {},
   "outputs": [
    {
     "name": "stdout",
     "output_type": "stream",
     "text": [
      "11897\n",
      "      0/ 200000: 3.3349\n"
     ]
    }
   ],
   "source": [
    "# Updated params to fix initial loss\n",
    "# Define vocab size, embedding size, and hidden layer size\n",
    "vocab_size=27\n",
    "n_embd=10\n",
    "n_hidden=200\n",
    "\n",
    "g = torch.Generator().manual_seed(2147483647)\n",
    "\n",
    "# Parameters\n",
    "C = torch.randn((vocab_size, n_embd), generator=g)\n",
    "\n",
    "W1 = torch.randn((n_embd*block_size, n_hidden), generator=g)\n",
    "b1 = torch.randn((n_hidden), generator=g)\n",
    "\n",
    "# FIX LOSS HERE\n",
    "W2 = torch.randn((n_hidden, vocab_size), generator=g) * .01 # Multiply by tiny number\n",
    "b2 = torch.randn((vocab_size), generator=g) * 0 # to create 0 biases\n",
    "\n",
    "# Collect params\n",
    "parameters = [C, W1, b1, W2, b2]\n",
    "\n",
    "# Set gradients\n",
    "for p in parameters:\n",
    "    p.requires_grad=True\n",
    "\n",
    "# Number of total params\n",
    "print(sum(p.nelement() for p in parameters))\n",
    "\n",
    "# Training\n",
    "max_steps=200000\n",
    "batch_size=32\n",
    "lossi=[]\n",
    "\n",
    "for i in range(max_steps):\n",
    "\n",
    "    # Get minibatch\n",
    "    ix=torch.randint(0, Xtr.shape[0], (batch_size, ), generator=g) # Indexes of inputs\n",
    "    Xb, Yb = Xtr[ix], Ytr[ix] # batches\n",
    "\n",
    "    # FORWARD PASS\n",
    "    # Embd and concatenation\n",
    "    emb = C[Xb]\n",
    "    embcat=emb.view(emb.shape[0], -1)\n",
    "\n",
    "    # pre activation\n",
    "    hpreact = embcat @ W1 + b1\n",
    "    # post activation\n",
    "    h=torch.tanh(hpreact)\n",
    "\n",
    "    # logits\n",
    "    logits = h @ W2 + b2\n",
    "    # Loss\n",
    "    loss  = F.cross_entropy(logits, Yb)\n",
    "\n",
    "    # BACKWARD PASS\n",
    "    # Set grads to 0\n",
    "    for p in parameters:\n",
    "        p.grad=None\n",
    "\n",
    "    # Backprop\n",
    "    loss.backward()\n",
    "\n",
    "    # Update params\n",
    "    lr = .1 if i < 100000 else .01\n",
    "    for p in parameters:\n",
    "        p.data+=-lr*p.grad\n",
    "\n",
    "    # TRack loss\n",
    "    if i % 10000 == 0:\n",
    "        print(f'{i:7d}/{max_steps:7d}: {loss.item():.4f}')\n",
    "    lossi.append(loss.log10().item())\n",
    "\n",
    "    break"
   ]
  },
  {
   "cell_type": "code",
   "execution_count": 72,
   "metadata": {},
   "outputs": [
    {
     "data": {
      "image/png": "[encoded data removed]",
      "text/plain": [
       "<Figure size 640x480 with 1 Axes>"
      ]
     },
     "metadata": {},
     "output_type": "display_data"
    }
   ],
   "source": [
    "# Visualise pre-activations of the hidden layer\n",
    "plt.hist(h.view(-1).tolist(), 50);"
   ]
  },
  {
   "cell_type": "code",
   "execution_count": 73,
   "metadata": {},
   "outputs": [
    {
     "data": {
      "image/png": "[encoded data removed]",
      "text/plain": [
       "<Figure size 640x480 with 1 Axes>"
      ]
     },
     "metadata": {},
     "output_type": "display_data"
    }
   ],
   "source": [
    "# Visualise activations of the hidden layer\n",
    "plt.hist(hpreact.view(-1).tolist(), 50);"
   ]
  },
  {
   "cell_type": "markdown",
   "metadata": {},
   "source": [
    "__Problem__\n",
    "\n",
    "We see a highly unequal distribution, where we have the majority of activation neurons close to -1 or 1, that is most neurons are very active. Why is this the case? This is because the \n",
    "pre-activation values of the hidden layers take on a lot of \"extreme\" values which leads `tanh` to assign values at its tails as the function squashes values between -1 and 1. In other words,\n",
    "the variance of the pre-activation neurons is too high, which leads to a lot of activation values being saturated.\n",
    "\n",
    "  This is a __major problem__ of this layer. If we look at the computation of `tanh` we see why:\n",
    "\n",
    "```\n",
    "def tanh(self):\n",
    "    ''''Returns the tanh value for the stored data'''\n",
    "    n = self.data\n",
    "    t = (math.exp(2*n) - 1)/(math.exp(2*n) + 1)\n",
    "    out = Value(t, (self,), 'tanh') # Just one child, as tanh takes the scalar of the neuron\n",
    "\n",
    "    def _backward():\n",
    "        '''Implements the backprop function for a tanh object.'''\n",
    "        self.grad += (1-t**2) * (out.grad) # local derivative of tanh*derivative of the output\n",
    "\n",
    "    # Assigns the tanh function to the _backward attribute of the object\n",
    "    out._backward = _backward\n",
    "    return out\n",
    "```\n",
    "\n",
    "When we backpropagate through `tanh` and its value is close to -1 or 1, then the gradient of the children will be very low if not 0. This makes mathematically sense, as the first derivative at the\n",
    " tails of `tanh` is close to 0 because its value remains constant. Intuitively, this makes even more sense. The input of the activation will not affect the loss too much when it is already\n",
    " in a flat region of the activation function. Changing the input sighlty won't sign. change the value of `tanh`, and hence cannot have an effect on the loss.\n",
    "\n",
    "What this causes is that it kills the backpropagation for the remaining neurons. That means that the adjustments of the weights influencing this neuron will not change the loss. \n",
    "Their gradients are close to 0. Imagine that all the activation neurons at this layer are at the flat tails of `tanh`, then the backpropagation would be completely destroyed at this layer.\n",
    "\n",
    "\n",
    "__tanh at 0.5__\n",
    "\n",
    "If `tanh` is .5 then the neuron is inactive as it simply passes through the gradient to its children. Hence, the gradient passed through tanh can only evere _decrease_. \n",
    "If `tanh` mvoes away from .5, then the gradient is passed through proportional to the (squared) value of `tanh`.\n",
    "\n",
    "We can also visualise the neurons of the hidden layer, and check how oten the neurons are at the flat tails. Below each row is an input and each column is a neuron of this layer. A white box\n",
    "indicates neurons that are larger than -1 or 1."
   ]
  },
  {
   "cell_type": "code",
   "execution_count": 74,
   "metadata": {},
   "outputs": [
    {
     "data": {
      "image/png": "[encoded data removed]",
      "text/plain": [
       "<Figure size 2000x1000 with 1 Axes>"
      ]
     },
     "metadata": {},
     "output_type": "display_data"
    }
   ],
   "source": [
    "# Show neurons of hidden layer for each input\n",
    "plt.figure(figsize=(20,10))\n",
    "plt.imshow(h.abs() > .99, cmap='gray', interpolation='nearest');"
   ]
  },
  {
   "cell_type": "markdown",
   "metadata": {},
   "source": [
    "We talk about a \"dead\" neuron if for all inputs, the activation is -1 or 1 (a column is fully white). Then this neuron will never learn and passes through gradients that are close to 0, and thus does not contribute to the learning of the weights and biases inlfuencing this neuron. In other words, no matter how params for this neuron are changed, for any inputs, the neuron will always contribute the same way to the loss.\n",
    "\n",
    "__When does this happen__\n",
    "\n",
    "This can happen at chance at initialisation, when the weights and biases are set so that the activation is by chance at the tail ends. Or it can happen during learning. For example, when the learning rate is too high, then the activation can be knocked out to the tails. Both can lead to dead neurons.\n",
    "\n",
    "__Solution__\n",
    "\n",
    "As we have seen, the pre-activation values are too extreme which leads to the saturation of the `tanh`. In other word, the pre-activation values from the hidden layer are too far off from 0. We can thus follow the same idea as above and multiply `b1` and `w1` by a small number so that we keep the resulting distrbiution of pre-activation values tighter."
   ]
  },
  {
   "cell_type": "code",
   "execution_count": 79,
   "metadata": {},
   "outputs": [
    {
     "name": "stdout",
     "output_type": "stream",
     "text": [
      "11897\n",
      "      0/ 200000: 3.3257\n"
     ]
    }
   ],
   "source": [
    "# Updated params to fix initial loss\n",
    "# Define vocab size, embedding size, and hidden layer size\n",
    "vocab_size=27\n",
    "n_embd=10\n",
    "n_hidden=200\n",
    "\n",
    "g = torch.Generator().manual_seed(2147483647)\n",
    "\n",
    "# Parameters\n",
    "C = torch.randn((vocab_size, n_embd), generator=g)\n",
    "\n",
    "W1 = torch.randn((n_embd*block_size, n_hidden), generator=g) * 0.2\n",
    "b1 = torch.randn((n_hidden), generator=g) * 0.01\n",
    "\n",
    "# FIX LOSS HERE\n",
    "W2 = torch.randn((n_hidden, vocab_size), generator=g) * .01 # Multiply by tiny number\n",
    "b2 = torch.randn((vocab_size), generator=g) * 0 # to create 0 biases\n",
    "\n",
    "# Collect params\n",
    "parameters = [C, W1, b1, W2, b2]\n",
    "\n",
    "# Set gradients\n",
    "for p in parameters:\n",
    "    p.requires_grad=True\n",
    "\n",
    "# Number of total params\n",
    "print(sum(p.nelement() for p in parameters))\n",
    "\n",
    "# Training\n",
    "max_steps=200000\n",
    "batch_size=32\n",
    "lossi=[]\n",
    "\n",
    "for i in range(max_steps):\n",
    "\n",
    "    # Get minibatch\n",
    "    ix=torch.randint(0, Xtr.shape[0], (batch_size, ), generator=g) # Indexes of inputs\n",
    "    Xb, Yb = Xtr[ix], Ytr[ix] # batches\n",
    "\n",
    "    # FORWARD PASS\n",
    "    # Embd and concatenation\n",
    "    emb = C[Xb]\n",
    "    embcat=emb.view(emb.shape[0], -1)\n",
    "\n",
    "    # pre activation\n",
    "    hpreact = embcat @ W1 + b1\n",
    "    # post activation\n",
    "    h=torch.tanh(hpreact)\n",
    "\n",
    "    # logits\n",
    "    logits = h @ W2 + b2\n",
    "    # Loss\n",
    "    loss  = F.cross_entropy(logits, Yb)\n",
    "\n",
    "    # BACKWARD PASS\n",
    "    # Set grads to 0\n",
    "    for p in parameters:\n",
    "        p.grad=None\n",
    "\n",
    "    # Backprop\n",
    "    loss.backward()\n",
    "\n",
    "    # Update params\n",
    "    lr = .1 if i < 100000 else .01\n",
    "    for p in parameters:\n",
    "        p.data+=-lr*p.grad\n",
    "\n",
    "    # TRack loss\n",
    "    if i % 10000 == 0:\n",
    "        print(f'{i:7d}/{max_steps:7d}: {loss.item():.4f}')\n",
    "    lossi.append(loss.log10().item())\n",
    "\n",
    "    break"
   ]
  },
  {
   "cell_type": "markdown",
   "metadata": {},
   "source": [
    "We can now again visualise the pre- and post activation values:"
   ]
  },
  {
   "cell_type": "code",
   "execution_count": 80,
   "metadata": {},
   "outputs": [
    {
     "data": {
      "image/png": "[encoded data removed]",
      "text/plain": [
       "<Figure size 640x480 with 1 Axes>"
      ]
     },
     "metadata": {},
     "output_type": "display_data"
    }
   ],
   "source": [
    "# Visualise pre-activations of the hidden layer\n",
    "plt.hist(h.view(-1).tolist(), 50);"
   ]
  },
  {
   "cell_type": "code",
   "execution_count": 81,
   "metadata": {},
   "outputs": [
    {
     "data": {
      "image/png": "[encoded data removed]",
      "text/plain": [
       "<Figure size 640x480 with 1 Axes>"
      ]
     },
     "metadata": {},
     "output_type": "display_data"
    }
   ],
   "source": [
    "# Visualise activations of the hidden layer\n",
    "plt.hist(hpreact.view(-1).tolist(), 50);"
   ]
  },
  {
   "cell_type": "code",
   "execution_count": 82,
   "metadata": {},
   "outputs": [
    {
     "data": {
      "image/png": "[encoded data removed]",
      "text/plain": [
       "<Figure size 2000x1000 with 1 Axes>"
      ]
     },
     "metadata": {},
     "output_type": "display_data"
    }
   ],
   "source": [
    "# Show neurons of hidden layer for each input\n",
    "plt.figure(figsize=(20,10))\n",
    "plt.imshow(h.abs() > .99, cmap='gray', interpolation='nearest');"
   ]
  },
  {
   "cell_type": "markdown",
   "metadata": {},
   "source": [
    "Now, in this distribution, we can see that we have jsut a few neurons saturated at initialisation. The squeezing of the pre-activation values thus helped to descrease the number if neurons that are already -1 or 1 at the beginning o the training.\n",
    "\n",
    "We can now run the full netwoek with this trick and will see that we will likely have an improved loss. Why? Because we have optimised the backrpopagation when we have less saturated neurons."
   ]
  },
  {
   "cell_type": "code",
   "execution_count": 83,
   "metadata": {},
   "outputs": [
    {
     "name": "stdout",
     "output_type": "stream",
     "text": [
      "11897\n",
      "      0/ 200000: 3.3257\n",
      "  10000/ 200000: 2.1697\n",
      "  20000/ 200000: 1.7436\n",
      "  30000/ 200000: 1.8685\n",
      "  40000/ 200000: 1.4940\n",
      "  50000/ 200000: 1.5684\n",
      "  60000/ 200000: 1.3965\n",
      "  70000/ 200000: 1.2732\n",
      "  80000/ 200000: 2.0510\n",
      "  90000/ 200000: 1.9089\n",
      " 100000/ 200000: 1.5444\n",
      " 110000/ 200000: 1.6170\n",
      " 120000/ 200000: 1.2197\n",
      " 130000/ 200000: 1.3792\n",
      " 140000/ 200000: 1.6437\n",
      " 150000/ 200000: 1.4535\n",
      " 160000/ 200000: 1.5897\n",
      " 170000/ 200000: 1.1873\n",
      " 180000/ 200000: 1.7406\n",
      " 190000/ 200000: 1.8796\n"
     ]
    }
   ],
   "source": [
    "# Updated params to fix initial loss\n",
    "# Define vocab size, embedding size, and hidden layer size\n",
    "vocab_size=27\n",
    "n_embd=10\n",
    "n_hidden=200\n",
    "\n",
    "g = torch.Generator().manual_seed(2147483647)\n",
    "\n",
    "# Parameters\n",
    "C = torch.randn((vocab_size, n_embd), generator=g)\n",
    "\n",
    "W1 = torch.randn((n_embd*block_size, n_hidden), generator=g) * 0.2\n",
    "b1 = torch.randn((n_hidden), generator=g) * 0.01\n",
    "\n",
    "# FIX LOSS HERE\n",
    "W2 = torch.randn((n_hidden, vocab_size), generator=g) * .01 # Multiply by tiny number\n",
    "b2 = torch.randn((vocab_size), generator=g) * 0 # to create 0 biases\n",
    "\n",
    "# Collect params\n",
    "parameters = [C, W1, b1, W2, b2]\n",
    "\n",
    "# Set gradients\n",
    "for p in parameters:\n",
    "    p.requires_grad=True\n",
    "\n",
    "# Number of total params\n",
    "print(sum(p.nelement() for p in parameters))\n",
    "\n",
    "# Training\n",
    "max_steps=200000\n",
    "batch_size=32\n",
    "lossi=[]\n",
    "\n",
    "for i in range(max_steps):\n",
    "\n",
    "    # Get minibatch\n",
    "    ix=torch.randint(0, Xtr.shape[0], (batch_size, ), generator=g) # Indexes of inputs\n",
    "    Xb, Yb = Xtr[ix], Ytr[ix] # batches\n",
    "\n",
    "    # FORWARD PASS\n",
    "    # Embd and concatenation\n",
    "    emb = C[Xb]\n",
    "    embcat=emb.view(emb.shape[0], -1)\n",
    "\n",
    "    # pre activation\n",
    "    hpreact = embcat @ W1 + b1\n",
    "    # post activation\n",
    "    h=torch.tanh(hpreact)\n",
    "\n",
    "    # logits\n",
    "    logits = h @ W2 + b2\n",
    "    # Loss\n",
    "    loss  = F.cross_entropy(logits, Yb)\n",
    "\n",
    "    # BACKWARD PASS\n",
    "    # Set grads to 0\n",
    "    for p in parameters:\n",
    "        p.grad=None\n",
    "\n",
    "    # Backprop\n",
    "    loss.backward()\n",
    "\n",
    "    # Update params\n",
    "    lr = .1 if i < 100000 else .01\n",
    "    for p in parameters:\n",
    "        p.data+=-lr*p.grad\n",
    "\n",
    "    # TRack loss\n",
    "    if i % 10000 == 0:\n",
    "        print(f'{i:7d}/{max_steps:7d}: {loss.item():.4f}')\n",
    "    lossi.append(loss.log10().item())"
   ]
  },
  {
   "cell_type": "code",
   "execution_count": 85,
   "metadata": {},
   "outputs": [
    {
     "name": "stdout",
     "output_type": "stream",
     "text": [
      "train 1.5348619222640991\n",
      "val 2.179687738418579\n"
     ]
    }
   ],
   "source": [
    "# Show loss which is better than before\n",
    "split_loss('train')\n",
    "split_loss('val')"
   ]
  },
  {
   "cell_type": "markdown",
   "metadata": {},
   "source": []
  }
 ],
 "metadata": {
  "kernelspec": {
   "display_name": "Python 3",
   "language": "python",
   "name": "python3"
  },
  "language_info": {
   "codemirror_mode": {
    "name": "ipython",
    "version": 3
   },
   "file_extension": ".py",
   "mimetype": "text/x-python",
   "name": "python",
   "nbconvert_exporter": "python",
   "pygments_lexer": "ipython3",
   "version": "3.10.9"
  },
  "orig_nbformat": 4
 },
 "nbformat": 4,
 "nbformat_minor": 2
}
